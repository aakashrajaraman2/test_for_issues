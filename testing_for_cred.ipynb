{
 "cells": [
  {
   "cell_type": "code",
   "execution_count": 1,
   "metadata": {},
   "outputs": [],
   "source": [
    "import os\n",
    "os.environ[\"GOOGLE_APPLICATION_CREDENTIALS\"]=\"cred.json\""
   ]
  },
  {
   "cell_type": "code",
   "execution_count": 2,
   "metadata": {},
   "outputs": [
    {
     "name": "stdout",
     "output_type": "stream",
     "text": [
      "cred.json\n"
     ]
    }
   ],
   "source": [
    "print(os.environ[\"GOOGLE_APPLICATION_CREDENTIALS\"])"
   ]
  },
  {
   "cell_type": "code",
   "execution_count": 3,
   "metadata": {},
   "outputs": [],
   "source": [
    "example = '''\n",
    "def factorial(number):\n",
    "\n",
    "  if number < 0:\n",
    "    return \"Factorial is not defined for negative numbers\"\n",
    "  factorial = 1\n",
    "  for i in range(1, number + 1):\n",
    "    factorial *= i\n",
    "  return factorial\n",
    "'''"
   ]
  },
  {
   "cell_type": "code",
   "execution_count": 4,
   "metadata": {},
   "outputs": [],
   "source": [
    "import issues_modular\n",
    "\n",
    "c = issues_modular.create_brain()"
   ]
  },
  {
   "cell_type": "code",
   "execution_count": 5,
   "metadata": {},
   "outputs": [
    {
     "name": "stderr",
     "output_type": "stream",
     "text": [
      "c:\\Users\\Aakash Rajaraman\\AppData\\Local\\Programs\\Python\\Python311\\Lib\\site-packages\\langchain\\chains\\llm.py:316: UserWarning: The predict_and_parse method is deprecated, instead pass an output parser directly to LLMChain.\n",
      "  warnings.warn(\n"
     ]
    },
    {
     "data": {
      "text/plain": [
       "' Title: Incorrect factorial calculation for negative numbers.\\n\\nDescription: The factorial function is designed to calculate the factorial of a non-negative integer. However, the current implementation does not handle negative numbers correctly.\\n\\nCurrent Behavior: When a negative number is passed as input, the function returns the string \"Factorial is not defined for negative numbers\".\\n\\nExpected Behavior: The function should raise an exception or return a more informative error message when a negative number is provided.\\n\\nPossible Solution:\\n1. Raise a ValueError exception with a clear message indicating that the input must be a non-negative integer.\\n2. Return a descriptive error message, such as \"Factorial is undefined for negative numbers. Please provide a non-negative integer.\"\\n\\nLabels: bug, math'"
      ]
     },
     "execution_count": 5,
     "metadata": {},
     "output_type": "execute_result"
    }
   ],
   "source": [
    "c.predict_and_parse(input=example) "
   ]
  },
  {
   "cell_type": "code",
   "execution_count": 1,
   "metadata": {},
   "outputs": [
    {
     "data": {
      "text/plain": [
       "\"['xxxx', 'yyyy']\""
      ]
     },
     "execution_count": 1,
     "metadata": {},
     "output_type": "execute_result"
    }
   ],
   "source": [
    "a=['xxxx', 'yyyy']\n",
    "b = str(a)\n",
    "b"
   ]
  },
  {
   "cell_type": "code",
   "execution_count": 12,
   "metadata": {},
   "outputs": [
    {
     "data": {
      "text/plain": [
       "'b'"
      ]
     },
     "execution_count": 12,
     "metadata": {},
     "output_type": "execute_result"
    }
   ],
   "source": [
    "x = {\"a\":\"1\", \"c\":\"2\", \"b\":\"3\"}\n",
    "\n",
    "list(x.keys())[-1]"
   ]
  },
  {
   "cell_type": "code",
   "execution_count": 3,
   "metadata": {},
   "outputs": [],
   "source": [
    "s='''\n",
    "import json\n",
    "import boto3\n",
    "dynamodb = boto3.client('dynamodb')\n",
    "table_name = 'figma_to_code'\n",
    "\n",
    "def dynamo_table_call():\n",
    "    # Define table schema\n",
    "    \n",
    "    key_schema = [\n",
    "        {\n",
    "            'AttributeName': 's3_uri',\n",
    "            'KeyType': 'HASH'  # Partition key\n",
    "        }\n",
    "    ]\n",
    "    attribute_definitions = [\n",
    "        {\n",
    "            'AttributeName': 's3_uri',\n",
    "            'AttributeType': 'S'  # String data type for the partition key\n",
    "        }\n",
    "    ]\n",
    "    provisioned_throughput = {\n",
    "        'ReadCapacityUnits': 5,   # Adjust according to your read capacity requirements\n",
    "        'WriteCapacityUnits': 5   # Adjust according to your write capacity requirements\n",
    "    }\n",
    "\n",
    "    # Create table\n",
    "    try:\n",
    "        response = dynamodb.create_table(\n",
    "            TableName=table_name,\n",
    "            KeySchema=key_schema,\n",
    "            AttributeDefinitions=attribute_definitions,\n",
    "            ProvisionedThroughput=provisioned_throughput\n",
    "        )\n",
    "    except:\n",
    "        pass\n",
    "    return None\n",
    "def lambda_handler(event, context):\n",
    "    bucket_name=event[\"Records\"][0][\"s3\"][\"bucket\"][\"name\"]\n",
    "    print(\"bucket name\",event[\"Records\"][0][\"s3\"][\"bucket\"][\"name\"])\n",
    "    \n",
    "    print(\"key: \",event[\"Records\"][0]['s3'][\"object\"][\"key\"])\n",
    "    key=event[\"Records\"][0]['s3'][\"object\"][\"key\"]\n",
    "    s3_uri=f\"s3://{bucket_name}/{key}\"\n",
    "    print(s3_uri)\n",
    "    \n",
    "    response_dynamo=dynamo_table_call()\n",
    "    print(response_dynamo)\n",
    "    item1 = {\n",
    "    's3_uri': {'S': s3_uri},\n",
    "    'code': {'S': \"code\"},\n",
    "    }\n",
    "    response = dynamodb.put_item(\n",
    "    TableName=table_name,\n",
    "    Item=item1)\n",
    "    \n",
    "    # TODO implement\n",
    "    return {\n",
    "        'statusCode': 200,\n",
    "        'body': json.dumps('Hello from Lambda!')\n",
    "    }\n",
    "'''"
   ]
  },
  {
   "cell_type": "code",
   "execution_count": 5,
   "metadata": {},
   "outputs": [
    {
     "data": {
      "text/plain": [
       "'\\nimport json\\nimport boto3\\ndynamodb = boto3.client(\\'dynamodb\\')\\ntable_name = \\'figma_to_code\\'\\n\\ndef dynamo_table_call():\\n    # Define table schema\\n    \\n    key_schema = [\\n        {\\n            \\'AttributeName\\': \\'s3_uri\\',\\n            \\'KeyType\\': \\'HASH\\'  # Partition key\\n        }\\n    ]\\n    attribute_definitions = [\\n        {\\n            \\'AttributeName\\': \\'s3_uri\\',\\n            \\'AttributeType\\': \\'S\\'  # String data type for the partition key\\n        }\\n    ]\\n    provisioned_throughput = {\\n        \\'ReadCapacityUnits\\': 5,   # Adjust according to your read capacity requirements\\n        \\'WriteCapacityUnits\\': 5   # Adjust according to your write capacity requirements\\n    }\\n\\n    # Create table\\n    try:\\n        response = dynamodb.create_table(\\n            TableName=table_name,\\n            KeySchema=key_schema,\\n            AttributeDefinitions=attribute_definitions,\\n            ProvisionedThroughput=provisioned_throughput\\n        )\\n    except:\\n        pass\\n    return None\\ndef lambda_handler(event, context):\\n    bucket_name=event[\"Records\"][0][\"s3\"][\"bucket\"][\"name\"]\\n    print(\"bucket name\",event[\"Records\"][0][\"s3\"][\"bucket\"][\"name\"])\\n    \\n    print(\"key: \",event[\"Records\"][0][\\'s3\\'][\"object\"][\"key\"])\\n    key=event[\"Records\"][0][\\'s3\\'][\"object\"][\"key\"]\\n    s3_uri=f\"s3://{bucket_name}/{key}\"\\n    print(s3_uri)\\n    \\n    response_dynamo=dynamo_table_call()\\n    print(response_dynamo)\\n    item1 = {\\n    \\'s3_uri\\': {\\'S\\': s3_uri},\\n    \\'code\\': {\\'S\\': \"code\"},\\n    }\\n    response = dynamodb.put_item(\\n    TableName=table_name,\\n    Item=item1)\\n    \\n    # TODO implement\\n    return {\\n        \\'statusCode\\': 200,\\n        \\'body\\': json.dumps(\\'Hello from Lambda!\\')\\n    }\\n'"
      ]
     },
     "execution_count": 5,
     "metadata": {},
     "output_type": "execute_result"
    }
   ],
   "source": [
    "s"
   ]
  },
  {
   "cell_type": "code",
   "execution_count": null,
   "metadata": {},
   "outputs": [],
   "source": []
  }
 ],
 "metadata": {
  "kernelspec": {
   "display_name": "Python 3",
   "language": "python",
   "name": "python3"
  },
  "language_info": {
   "codemirror_mode": {
    "name": "ipython",
    "version": 3
   },
   "file_extension": ".py",
   "mimetype": "text/x-python",
   "name": "python",
   "nbconvert_exporter": "python",
   "pygments_lexer": "ipython3",
   "version": "3.11.9"
  }
 },
 "nbformat": 4,
 "nbformat_minor": 2
}
