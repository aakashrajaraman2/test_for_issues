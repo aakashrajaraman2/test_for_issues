{
 "cells": [
  {
   "cell_type": "code",
   "execution_count": 1,
   "metadata": {},
   "outputs": [],
   "source": [
    "import os\n",
    "os.environ[\"GOOGLE_APPLICATION_CREDENTIALS\"]=\"cred.json\""
   ]
  },
  {
   "cell_type": "code",
   "execution_count": 3,
   "metadata": {},
   "outputs": [
    {
     "name": "stdout",
     "output_type": "stream",
     "text": [
      "cred.json\n"
     ]
    }
   ],
   "source": [
    "print(os.environ[\"GOOGLE_APPLICATION_CREDENTIALS\"])"
   ]
  },
  {
   "cell_type": "code",
   "execution_count": 2,
   "metadata": {},
   "outputs": [],
   "source": [
    "example = '''\n",
    "def factorial(number):\n",
    "\n",
    "  if number < 0:\n",
    "    return \"Factorial is not defined for negative numbers\"\n",
    "  factorial = 1\n",
    "  for i in range(1, number + 1):\n",
    "    factorial *= i\n",
    "  return factorial\n",
    "'''"
   ]
  },
  {
   "cell_type": "code",
   "execution_count": 5,
   "metadata": {},
   "outputs": [],
   "source": [
    "import issues_modular\n",
    "\n",
    "c = issues_modular.create_brain()"
   ]
  },
  {
   "cell_type": "code",
   "execution_count": 6,
   "metadata": {},
   "outputs": [
    {
     "data": {
      "text/plain": [
       "' Title: Incorrect factorial calculation for negative numbers.\\n\\nDescription: The factorial function is designed to calculate the factorial of a non-negative integer. However, the current implementation does not handle negative numbers correctly.\\n\\nCurrent Behavior: When a negative number is passed as input, the function returns the string \"Factorial is not defined for negative numbers\".\\n\\nExpected Behavior: The function should raise an exception or return a more informative error message when a negative number is provided.\\n\\nPossible Solution:\\n1. Raise a ValueError exception with a clear message indicating that the input must be a non-negative integer.\\n2. Return a descriptive error message, such as \"Factorial is undefined for negative numbers. Please provide a non-negative integer.\"\\n\\nLabels: bug, math'"
      ]
     },
     "execution_count": 6,
     "metadata": {},
     "output_type": "execute_result"
    }
   ],
   "source": [
    "c.predict(input=example)"
   ]
  },
  {
   "cell_type": "code",
   "execution_count": null,
   "metadata": {},
   "outputs": [],
   "source": []
  }
 ],
 "metadata": {
  "kernelspec": {
   "display_name": "Python 3",
   "language": "python",
   "name": "python3"
  },
  "language_info": {
   "codemirror_mode": {
    "name": "ipython",
    "version": 3
   },
   "file_extension": ".py",
   "mimetype": "text/x-python",
   "name": "python",
   "nbconvert_exporter": "python",
   "pygments_lexer": "ipython3",
   "version": "3.11.9"
  }
 },
 "nbformat": 4,
 "nbformat_minor": 2
}
