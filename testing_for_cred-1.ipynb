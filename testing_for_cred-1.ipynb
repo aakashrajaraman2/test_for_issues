{
 "cells": [
  {
   "cell_type": "code",
   "execution_count": 10,
   "metadata": {},
   "outputs": [],
   "source": [
    "import os\n",
    "import requests\n",
    "import json\n",
    "os.environ[\"GOOGLE_APPLICATION_CREDENTIALS\"]=\"cred.json\""
   ]
  },
  {
   "cell_type": "code",
   "execution_count": 2,
   "metadata": {},
   "outputs": [
    {
     "name": "stdout",
     "output_type": "stream",
     "text": [
      "cred.json\n"
     ]
    }
   ],
   "source": [
    "print(os.environ[\"GOOGLE_APPLICATION_CREDENTIALS\"])"
   ]
  },
  {
   "cell_type": "code",
   "execution_count": 3,
   "metadata": {},
   "outputs": [],
   "source": [
    "example = '''\n",
    "def factorial(number):\n",
    "\n",
    "  if number < 0:\n",
    "    return \"Factorial is not defined for negative numbers\"\n",
    "  factorial = 1\n",
    "  for i in range(1, number + 1):\n",
    "    factorial *= i\n",
    "  return factorial\n",
    "'''"
   ]
  },
  {
   "cell_type": "code",
   "execution_count": 4,
   "metadata": {},
   "outputs": [],
   "source": [
    "import issues_modular\n",
    "\n",
    "c = issues_modular.create_brain()"
   ]
  },
  {
   "cell_type": "code",
   "execution_count": 5,
   "metadata": {},
   "outputs": [
    {
     "name": "stdout",
     "output_type": "stream",
     "text": [
      " Title: Incorrect Factorial Calculation for Negative Numbers\n",
      "\n",
      "Description: The factorial function is not correctly handling negative numbers. According to mathematical conventions, the factorial of a negative number is undefined. The function should return an appropriate error message or raise an exception when a negative number is provided.\n",
      "\n",
      "Labels: Bug, Math, Logic\n"
     ]
    }
   ],
   "source": [
    "ans=c.predict(input=example)\n",
    "print(ans)"
   ]
  },
  {
   "cell_type": "code",
   "execution_count": 6,
   "metadata": {},
   "outputs": [
    {
     "data": {
      "text/plain": [
       "[' Title: Incorrect Factorial Calculation for Negative Numbers',\n",
       " '',\n",
       " 'Description: The factorial function is not correctly handling negative numbers. According to mathematical conventions, the factorial of a negative number is undefined. The function should return an appropriate error message or raise an exception when a negative number is provided.',\n",
       " '',\n",
       " 'Labels: Bug, Math, Logic']"
      ]
     },
     "execution_count": 6,
     "metadata": {},
     "output_type": "execute_result"
    }
   ],
   "source": [
    "seg = ans.split('\\n')\n",
    "seg"
   ]
  },
  {
   "cell_type": "code",
   "execution_count": 7,
   "metadata": {},
   "outputs": [
    {
     "data": {
      "text/plain": [
       "[' Title: Incorrect Factorial Calculation for Negative Numbers',\n",
       " 'Description: The factorial function is not correctly handling negative numbers. According to mathematical conventions, the factorial of a negative number is undefined. The function should return an appropriate error message or raise an exception when a negative number is provided.',\n",
       " 'Labels: Bug, Math, Logic']"
      ]
     },
     "execution_count": 7,
     "metadata": {},
     "output_type": "execute_result"
    }
   ],
   "source": [
    "seg2=[i for i in seg if i.strip()]\n",
    "seg2"
   ]
  },
  {
   "cell_type": "code",
   "execution_count": 8,
   "metadata": {},
   "outputs": [
    {
     "data": {
      "text/plain": [
       "3"
      ]
     },
     "execution_count": 8,
     "metadata": {},
     "output_type": "execute_result"
    }
   ],
   "source": [
    "len(seg2)"
   ]
  },
  {
   "cell_type": "code",
   "execution_count": 9,
   "metadata": {},
   "outputs": [
    {
     "name": "stdout",
     "output_type": "stream",
     "text": [
      "Title: Incorrect Factorial Calculation for Negative Numbers\n",
      "Description: The factorial function is not correctly handling negative numbers. According to mathematical conventions, the factorial of a negative number is undefined. The function should return an appropriate error message or raise an exception when a negative number is provided.\n",
      "Labels: ['Bug', 'Math', 'Logic']\n"
     ]
    }
   ],
   "source": [
    "title = \"\"\n",
    "description = \"\"\n",
    "Labels=[]\n",
    "\n",
    "for i in seg2:\n",
    "    if i.startswith(' Title: '):\n",
    "        title=i.split(': ', 1)[1]\n",
    "    elif i.startswith('Description:'):\n",
    "        description = i.split(': ', 1)[1]\n",
    "    elif i.startswith('Labels:'):\n",
    "        Labels = i.split(': ')[1].split(', ') \n",
    "           \n",
    "print(\"Title:\", title)\n",
    "print(\"Description:\", description)\n",
    "print(\"Labels:\",Labels)"
   ]
  },
  {
   "cell_type": "code",
   "execution_count": 14,
   "metadata": {},
   "outputs": [
    {
     "name": "stdout",
     "output_type": "stream",
     "text": [
      "New issue created successfully!\n",
      "{'url': 'https://api.github.com/repos/VishnukumarSR17/Project35/issues/3', 'repository_url': 'https://api.github.com/repos/VishnukumarSR17/Project35', 'labels_url': 'https://api.github.com/repos/VishnukumarSR17/Project35/issues/3/labels{/name}', 'comments_url': 'https://api.github.com/repos/VishnukumarSR17/Project35/issues/3/comments', 'events_url': 'https://api.github.com/repos/VishnukumarSR17/Project35/issues/3/events', 'html_url': 'https://github.com/VishnukumarSR17/Project35/issues/3', 'id': 2335434483, 'node_id': 'I_kwDOLICZGc6LM-bz', 'number': 3, 'title': 'Incorrect Factorial Calculation for Negative Numbers', 'user': {'login': 'VishnukumarSR17', 'id': 156899748, 'node_id': 'U_kgDOCVoZpA', 'avatar_url': 'https://avatars.githubusercontent.com/u/156899748?v=4', 'gravatar_id': '', 'url': 'https://api.github.com/users/VishnukumarSR17', 'html_url': 'https://github.com/VishnukumarSR17', 'followers_url': 'https://api.github.com/users/VishnukumarSR17/followers', 'following_url': 'https://api.github.com/users/VishnukumarSR17/following{/other_user}', 'gists_url': 'https://api.github.com/users/VishnukumarSR17/gists{/gist_id}', 'starred_url': 'https://api.github.com/users/VishnukumarSR17/starred{/owner}{/repo}', 'subscriptions_url': 'https://api.github.com/users/VishnukumarSR17/subscriptions', 'organizations_url': 'https://api.github.com/users/VishnukumarSR17/orgs', 'repos_url': 'https://api.github.com/users/VishnukumarSR17/repos', 'events_url': 'https://api.github.com/users/VishnukumarSR17/events{/privacy}', 'received_events_url': 'https://api.github.com/users/VishnukumarSR17/received_events', 'type': 'User', 'site_admin': False}, 'labels': [{'id': 6461160406, 'node_id': 'LA_kwDOLICZGc8AAAABgR171g', 'url': 'https://api.github.com/repos/VishnukumarSR17/Project35/labels/bug', 'name': 'bug', 'color': 'd73a4a', 'default': True, 'description': \"Something isn't working\"}, {'id': 7041910758, 'node_id': 'LA_kwDOLICZGc8AAAABo7sH5g', 'url': 'https://api.github.com/repos/VishnukumarSR17/Project35/labels/Math', 'name': 'Math', 'color': 'ededed', 'default': False, 'description': None}, {'id': 7041910759, 'node_id': 'LA_kwDOLICZGc8AAAABo7sH5w', 'url': 'https://api.github.com/repos/VishnukumarSR17/Project35/labels/Logic', 'name': 'Logic', 'color': 'ededed', 'default': False, 'description': None}], 'state': 'open', 'locked': False, 'assignee': None, 'assignees': [], 'milestone': None, 'comments': 0, 'created_at': '2024-06-05T09:54:18Z', 'updated_at': '2024-06-05T09:54:19Z', 'closed_at': None, 'author_association': 'OWNER', 'active_lock_reason': None, 'body': 'The factorial function is not correctly handling negative numbers. According to mathematical conventions, the factorial of a negative number is undefined. The function should return an appropriate error message or raise an exception when a negative number is provided.', 'closed_by': None, 'reactions': {'url': 'https://api.github.com/repos/VishnukumarSR17/Project35/issues/3/reactions', 'total_count': 0, '+1': 0, '-1': 0, 'laugh': 0, 'hooray': 0, 'confused': 0, 'heart': 0, 'rocket': 0, 'eyes': 0}, 'timeline_url': 'https://api.github.com/repos/VishnukumarSR17/Project35/issues/3/timeline', 'performed_via_github_app': None, 'state_reason': None}\n"
     ]
    }
   ],
   "source": [
    "def create_issues(ACCESS_TOKEN,OWNER,REPO,title,body,labels):\n",
    "    headers = {\n",
    "    'Authorization': f'token {ACCESS_TOKEN}',\n",
    "    'Accept': 'application/vnd.github.v3+json'\n",
    "    }\n",
    "    url = f'https://api.github.com/repos/{OWNER}/{REPO}/issues'\n",
    "\n",
    "    # Define the issue data\n",
    "    issue_data = {\n",
    "        'title':title,\n",
    "        'body':body,\n",
    "        'labels':labels\n",
    "    }\n",
    "\n",
    "    # Send the POST request to create the new issue\n",
    "    response = requests.post(url, headers=headers, data=json.dumps(issue_data))\n",
    "\n",
    "    # Check the response status code\n",
    "    if response.status_code == 201:\n",
    "        print('New issue created successfully!')\n",
    "        print(response.json())\n",
    "    else:\n",
    "        print(f'Error creating issue: {response.status_code}')\n",
    "        print(response.text)\n",
    "# Replace these with your GitHub access token and repository information\n",
    "ACCESS_TOKEN = ''\n",
    "OWNER = ''\n",
    "REPO = ''\n",
    "CODE = ''''''\n",
    "body=description\n",
    "title=title\n",
    "labels=Labels\n",
    "create_issues(ACCESS_TOKEN,OWNER,REPO,title,body,labels)"
   ]
  },
  {
   "cell_type": "code",
   "execution_count": null,
   "metadata": {},
   "outputs": [],
   "source": []
  }
 ],
 "metadata": {
  "kernelspec": {
   "display_name": "Python 3",
   "language": "python",
   "name": "python3"
  },
  "language_info": {
   "codemirror_mode": {
    "name": "ipython",
    "version": 3
   },
   "file_extension": ".py",
   "mimetype": "text/x-python",
   "name": "python",
   "nbconvert_exporter": "python",
   "pygments_lexer": "ipython3",
   "version": "3.10.11"
  }
 },
 "nbformat": 4,
 "nbformat_minor": 2
}
